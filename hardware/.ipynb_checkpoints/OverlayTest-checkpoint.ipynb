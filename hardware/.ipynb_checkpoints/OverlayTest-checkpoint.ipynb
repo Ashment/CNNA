{
 "cells": [
  {
   "cell_type": "code",
   "execution_count": 1,
   "metadata": {},
   "outputs": [
    {
     "data": {
      "application/javascript": [
       "\n",
       "try {\n",
       "require(['notebook/js/codecell'], function(codecell) {\n",
       "  codecell.CodeCell.options_default.highlight_modes[\n",
       "      'magic_text/x-csrc'] = {'reg':[/^%%microblaze/]};\n",
       "  Jupyter.notebook.events.one('kernel_ready.Kernel', function(){\n",
       "      Jupyter.notebook.get_cells().map(function(cell){\n",
       "          if (cell.cell_type == 'code'){ cell.auto_highlight(); } }) ;\n",
       "  });\n",
       "});\n",
       "} catch (e) {};\n"
      ]
     },
     "metadata": {},
     "output_type": "display_data"
    }
   ],
   "source": [
    "from pynq import Overlay\n",
    "from pynq import allocate\n",
    "import math\n",
    "import time\n",
    "import numpy as np"
   ]
  },
  {
   "cell_type": "code",
   "execution_count": 2,
   "metadata": {},
   "outputs": [],
   "source": [
    "# Load Overlay\n",
    "overlay = Overlay('./Overlay/cnna.bit')"
   ]
  },
  {
   "cell_type": "code",
   "execution_count": 3,
   "metadata": {},
   "outputs": [],
   "source": [
    "overlay?"
   ]
  },
  {
   "cell_type": "code",
   "execution_count": 4,
   "metadata": {},
   "outputs": [],
   "source": [
    "test_ip = overlay.cnna_0"
   ]
  },
  {
   "cell_type": "code",
   "execution_count": 5,
   "metadata": {
    "scrolled": true
   },
   "outputs": [
    {
     "data": {
      "text/plain": [
       "RegisterMap {\n",
       "  CTRL = Register(AP_START=0, AP_DONE=0, AP_IDLE=1, AP_READY=0, RESERVED_1=0, AUTO_RESTART=0, RESERVED_2=0),\n",
       "  GIER = Register(Enable=0, RESERVED=0),\n",
       "  IP_IER = Register(CHAN0_INT_EN=0, CHAN1_INT_EN=0, RESERVED=0),\n",
       "  IP_ISR = Register(CHAN0_INT_ST=0, CHAN1_INT_ST=0, RESERVED=0),\n",
       "  in_data_1 = Register(in_data=0),\n",
       "  in_data_2 = Register(in_data=0),\n",
       "  in_weights_1 = Register(in_weights=0),\n",
       "  in_weights_2 = Register(in_weights=0),\n",
       "  out_r_1 = Register(out_r=0),\n",
       "  out_r_2 = Register(out_r=0)\n",
       "}"
      ]
     },
     "execution_count": 5,
     "metadata": {},
     "output_type": "execute_result"
    }
   ],
   "source": [
    "test_ip.register_map"
   ]
  },
  {
   "cell_type": "markdown",
   "metadata": {},
   "source": [
    "```c\n",
    "// control\n",
    "// 0x00 : Control signals\n",
    "//        bit 0  - ap_start (Read/Write/COH)\n",
    "//        bit 1  - ap_done (Read/COR)\n",
    "//        bit 2  - ap_idle (Read)\n",
    "//        bit 3  - ap_ready (Read)\n",
    "//        bit 7  - auto_restart (Read/Write)\n",
    "//        others - reserved\n",
    "// 0x04 : Global Interrupt Enable Register\n",
    "//        bit 0  - Global Interrupt Enable (Read/Write)\n",
    "//        others - reserved\n",
    "// 0x08 : IP Interrupt Enable Register (Read/Write)\n",
    "//        bit 0  - enable ap_done interrupt (Read/Write)\n",
    "//        bit 1  - enable ap_ready interrupt (Read/Write)\n",
    "//        others - reserved\n",
    "// 0x0c : IP Interrupt Status Register (Read/TOW)\n",
    "//        bit 0  - ap_done (COR/TOW)\n",
    "//        bit 1  - ap_ready (COR/TOW)\n",
    "//        others - reserved\n",
    "// 0x10 : Data signal of in_data\n",
    "//        bit 31~0 - in_data[31:0] (Read/Write)\n",
    "// 0x14 : Data signal of in_data\n",
    "//        bit 31~0 - in_data[63:32] (Read/Write)\n",
    "// 0x18 : reserved\n",
    "// 0x1c : Data signal of in_weights\n",
    "//        bit 31~0 - in_weights[31:0] (Read/Write)\n",
    "// 0x20 : Data signal of in_weights\n",
    "//        bit 31~0 - in_weights[63:32] (Read/Write)\n",
    "// 0x24 : reserved\n",
    "// 0x28 : Data signal of out_r\n",
    "//        bit 31~0 - out_r[31:0] (Read/Write)\n",
    "// 0x2c : Data signal of out_r\n",
    "//        bit 31~0 - out_r[63:32] (Read/Write)\n",
    "// 0x30 : reserved\n",
    "// (SC = Self Clear, COR = Clear on Read, TOW = Toggle on Write, COH = Clear on Handshake)\n",
    "\n",
    "```"
   ]
  },
  {
   "cell_type": "code",
   "execution_count": 6,
   "metadata": {},
   "outputs": [],
   "source": [
    "# Method for FP and FxP conversion.\n",
    "def floatToFix(infloat, outW, outI):\n",
    "    inint = math.floor(infloat)\n",
    "    binint = bin(inint).replace(\"0b\",\"\")\n",
    "    if(len(binint) > outI):\n",
    "        raise Exception(\"Number too large for integer width\")\n",
    "    while len(binint) < outI:\n",
    "        binint = '0' + binint\n",
    "        \n",
    "    indec = infloat - math.floor(infloat)\n",
    "    i = 0\n",
    "    bindec = \"\"\n",
    "    while (len(bindec) < (outW - outI)):\n",
    "        i -= 1\n",
    "        if(indec > (2**(i))):\n",
    "            indec -= 2**(i)\n",
    "            bindec += '1'\n",
    "        else:\n",
    "            bindec += '0'\n",
    "            \n",
    "    outbin = binint + bindec\n",
    "    revbin = outbin[::-1]\n",
    "    outdec = 0\n",
    "    for i in range(outW):\n",
    "        if(revbin[i] == '1'):\n",
    "            outdec += 2**i\n",
    "        i += 1\n",
    "    \n",
    "    print(outbin, outdec)\n",
    "    return outdec"
   ]
  },
  {
   "cell_type": "code",
   "execution_count": 7,
   "metadata": {},
   "outputs": [
    {
     "name": "stdout",
     "output_type": "stream",
     "text": [
      "11011000 216\n"
     ]
    },
    {
     "data": {
      "text/plain": [
       "216"
      ]
     },
     "execution_count": 7,
     "metadata": {},
     "output_type": "execute_result"
    }
   ],
   "source": [
    "floatToFix(1.693, 8, 1)"
   ]
  },
  {
   "cell_type": "code",
   "execution_count": 2,
   "metadata": {},
   "outputs": [
    {
     "ename": "NameError",
     "evalue": "name 'allocate' is not defined",
     "output_type": "error",
     "traceback": [
      "\u001b[0;31m---------------------------------------------------------------------------\u001b[0m",
      "\u001b[0;31mNameError\u001b[0m                                 Traceback (most recent call last)",
      "\u001b[0;32m<ipython-input-2-c7825166ba27>\u001b[0m in \u001b[0;36m<module>\u001b[0;34m()\u001b[0m\n\u001b[0;32m----> 1\u001b[0;31m \u001b[0min1\u001b[0m \u001b[0;34m=\u001b[0m \u001b[0mallocate\u001b[0m\u001b[0;34m(\u001b[0m\u001b[0mshape\u001b[0m\u001b[0;34m=\u001b[0m\u001b[0;34m(\u001b[0m\u001b[0;36m3\u001b[0m\u001b[0;34m,\u001b[0m\u001b[0;36m3\u001b[0m\u001b[0;34m,\u001b[0m\u001b[0;36m3\u001b[0m\u001b[0;34m)\u001b[0m\u001b[0;34m,\u001b[0m \u001b[0mcacheable\u001b[0m\u001b[0;34m=\u001b[0m\u001b[0;36m1\u001b[0m\u001b[0;34m,\u001b[0m \u001b[0mdtype\u001b[0m\u001b[0;34m=\u001b[0m\u001b[0;34m'uint16'\u001b[0m\u001b[0;34m)\u001b[0m\u001b[0;34m\u001b[0m\u001b[0m\n\u001b[0m\u001b[1;32m      2\u001b[0m \u001b[0min2\u001b[0m \u001b[0;34m=\u001b[0m \u001b[0mallocate\u001b[0m\u001b[0;34m(\u001b[0m\u001b[0mshape\u001b[0m\u001b[0;34m=\u001b[0m\u001b[0;34m(\u001b[0m\u001b[0;36m3\u001b[0m\u001b[0;34m,\u001b[0m\u001b[0;36m3\u001b[0m\u001b[0;34m,\u001b[0m\u001b[0;36m3\u001b[0m\u001b[0;34m)\u001b[0m\u001b[0;34m,\u001b[0m \u001b[0mcacheable\u001b[0m\u001b[0;34m=\u001b[0m\u001b[0;36m1\u001b[0m\u001b[0;34m,\u001b[0m \u001b[0mdtype\u001b[0m\u001b[0;34m=\u001b[0m\u001b[0;34m'uint8'\u001b[0m\u001b[0;34m)\u001b[0m\u001b[0;34m\u001b[0m\u001b[0m\n\u001b[1;32m      3\u001b[0m \u001b[0mprint\u001b[0m\u001b[0;34m(\u001b[0m\u001b[0min1\u001b[0m\u001b[0;34m.\u001b[0m\u001b[0mshape\u001b[0m\u001b[0;34m)\u001b[0m\u001b[0;34m\u001b[0m\u001b[0m\n\u001b[1;32m      4\u001b[0m \u001b[0;31m#print(in1.physical_address)\u001b[0m\u001b[0;34m\u001b[0m\u001b[0;34m\u001b[0m\u001b[0m\n\u001b[1;32m      5\u001b[0m \u001b[0mprint\u001b[0m\u001b[0;34m(\u001b[0m\u001b[0min2\u001b[0m\u001b[0;34m.\u001b[0m\u001b[0mshape\u001b[0m\u001b[0;34m)\u001b[0m\u001b[0;34m\u001b[0m\u001b[0m\n",
      "\u001b[0;31mNameError\u001b[0m: name 'allocate' is not defined"
     ]
    }
   ],
   "source": [
    "in1 = allocate(shape=(3,3,3), cacheable=1, dtype='uint16')\n",
    "in2 = allocate(shape=(3,3,3), cacheable=1, dtype='uint8')\n",
    "print(in1.shape)\n",
    "#print(in1.physical_address)\n",
    "print(in2.shape)\n",
    "#print(in2.physical_address)"
   ]
  },
  {
   "cell_type": "code",
   "execution_count": 7,
   "metadata": {},
   "outputs": [
    {
     "name": "stdout",
     "output_type": "stream",
     "text": [
      "(3, 3, 3)\n",
      "[[[1126 1126 1126]\n",
      "  [1126 1126 1126]\n",
      "  [1126 1126 1126]]\n",
      "\n",
      " [[2150 2150 2150]\n",
      "  [2150 2150 2150]\n",
      "  [2150 2150 2150]]\n",
      "\n",
      " [[4198 4198 4198]\n",
      "  [4198 4198 4198]\n",
      "  [4198 4198 4198]]]\n",
      "= = = = =\n",
      "(3, 3, 3)\n",
      "[[[102 102 102]\n",
      "  [102 102 102]\n",
      "  [102 102 102]]\n",
      "\n",
      " [[102 102 102]\n",
      "  [102 102 102]\n",
      "  [102 102 102]]\n",
      "\n",
      " [[102 102 102]\n",
      "  [102 102 102]\n",
      "  [102 102 102]]]\n"
     ]
    }
   ],
   "source": [
    "# ap_fixed<16,6> 0000 00.00 0000 0000 \n",
    "# 0.1 = 000000.00 0110 0110 = 102\n",
    "#                       1.1 = 1126\n",
    "# 0.2 = 000000.00 0011 0011 = 51\n",
    "#                       2.1 = 2150\n",
    "# 0.3 = 000000.01 0011 0011 = 307\n",
    "#                       4.1 = 4198\n",
    "\n",
    "tarr1 = np.array([\n",
    "    [[1126,1126,1126],[1126,1126,1126],[1126,1126,1126]],\n",
    "    [[2150,2150,2150],[2150,2150,2150],[2150,2150,2150]],\n",
    "    [[4198,4198,4198],[4198,4198,4198],[4198,4198,4198]]], dtype=np.uint16)\n",
    "\n",
    "tarr2 = np.full((3,3,3), 102, dtype=np.uint8)\n",
    "\n",
    "\n",
    "print(tarr1.shape)\n",
    "print(tarr1)\n",
    "print(\"= = = = =\")\n",
    "print(tarr2.shape)\n",
    "print(tarr2)"
   ]
  },
  {
   "cell_type": "code",
   "execution_count": 8,
   "metadata": {},
   "outputs": [],
   "source": [
    "np.copyto(in1, tarr1)\n",
    "np.copyto(in2, tarr2)"
   ]
  },
  {
   "cell_type": "code",
   "execution_count": 10,
   "metadata": {},
   "outputs": [],
   "source": [
    "for i in range(3):\n",
    "    for j in range(3):\n",
    "        for k in range(3):\n",
    "            in1[i][j][k] = tarr1[i][j][k]\n",
    "            in2[i][j][k] = tarr2[i][j][k]"
   ]
  },
  {
   "cell_type": "code",
   "execution_count": 9,
   "metadata": {},
   "outputs": [
    {
     "name": "stdout",
     "output_type": "stream",
     "text": [
      "[[[1126 1126 1126]\n",
      "  [1126 1126 1126]\n",
      "  [1126 1126 1126]]\n",
      "\n",
      " [[2150 2150 2150]\n",
      "  [2150 2150 2150]\n",
      "  [2150 2150 2150]]\n",
      "\n",
      " [[4198 4198 4198]\n",
      "  [4198 4198 4198]\n",
      "  [4198 4198 4198]]]\n",
      "\n",
      "= = = = = =\n",
      "\n",
      "[[[102 102 102]\n",
      "  [102 102 102]\n",
      "  [102 102 102]]\n",
      "\n",
      " [[102 102 102]\n",
      "  [102 102 102]\n",
      "  [102 102 102]]\n",
      "\n",
      " [[102 102 102]\n",
      "  [102 102 102]\n",
      "  [102 102 102]]]\n"
     ]
    }
   ],
   "source": [
    "print(in1)\n",
    "print('\\n= = = = = =\\n')\n",
    "print(in2)"
   ]
  },
  {
   "cell_type": "code",
   "execution_count": 10,
   "metadata": {},
   "outputs": [
    {
     "name": "stdout",
     "output_type": "stream",
     "text": [
      "[[0 0 0]\n",
      " [0 0 0]\n",
      " [0 0 0]]\n"
     ]
    }
   ],
   "source": [
    "# Allocate memory to store output\n",
    "out = allocate(shape=(3,3), dtype='int16')\n",
    "print(out)"
   ]
  },
  {
   "cell_type": "code",
   "execution_count": 11,
   "metadata": {},
   "outputs": [
    {
     "name": "stdout",
     "output_type": "stream",
     "text": [
      "0.0012054443359375\n",
      "out: [[1794 1794 1794]\n",
      " [3426 3426 3426]\n",
      " [6690 6690 6690]]\n"
     ]
    }
   ],
   "source": [
    "in1s = 0x10\n",
    "in2s = 0x1c\n",
    "outs = 0x28\n",
    "\n",
    "t1 = time.time()\n",
    "\n",
    "i = 0\n",
    "\n",
    "'''\n",
    "while i < 9:\n",
    "    if(i%4 == 0):\n",
    "        print(\">at offset\",hex(i))\n",
    "        if(i+4 < in1.shape[0]):\n",
    "            tdat = in1[i:i+4].tobytes()\n",
    "        else:\n",
    "            tdat = in1[i:].tobytes()\n",
    "            \n",
    "        print(tdat)\n",
    "        test_ip.write(in1s+i, tdat)\n",
    "        \n",
    "        if(i+4 < in1.shape[0]):\n",
    "            tdat = in2[i:i+4].tobytes()\n",
    "        else:\n",
    "            tdat = in2[i:].tobytes()\n",
    "            \n",
    "        print(tdat)\n",
    "        test_ip.write(in2s+i, tdat)\n",
    "    i += 1\n",
    "'''\n",
    "\n",
    "\n",
    "#test_ip.register_map.Memory_in_data = in1\n",
    "#test_ip.register_map.Memory_in_weights = in2\n",
    "\n",
    "test_ip.write(in1s, in1.physical_address)\n",
    "test_ip.write(in2s, in2.physical_address)\n",
    "test_ip.write(outs, out.physical_address)\n",
    "test_ip.write(0x00, 1)\n",
    "\n",
    "t2 = time.time()\n",
    "\n",
    "print(t2-t1)\n",
    "print(\"out:\", out)"
   ]
  },
  {
   "cell_type": "code",
   "execution_count": null,
   "metadata": {},
   "outputs": [],
   "source": [
    "'''\n",
    "out: [[1794 1794 1794]\n",
    "      [3426 3426 3426]\n",
    "      [6690 6690 6690]]\n",
    "1794 = 0000 01.11 0000 0010 = 1.751953\n",
    "3426 = 0000 11.01 0110 0010 = 3.345703\n",
    "6690 = 0001 10.10 0010 0010 = 6.533203\n",
    "'''"
   ]
  },
  {
   "cell_type": "code",
   "execution_count": 6,
   "metadata": {},
   "outputs": [
    {
     "data": {
      "text/plain": [
       "str"
      ]
     },
     "execution_count": 6,
     "metadata": {},
     "output_type": "execute_result"
    }
   ],
   "source": [
    "type(bin(12).replace(\"0b\", \"\"))"
   ]
  },
  {
   "cell_type": "code",
   "execution_count": null,
   "metadata": {},
   "outputs": [],
   "source": []
  }
 ],
 "metadata": {
  "kernelspec": {
   "display_name": "Python 3",
   "language": "python",
   "name": "python3"
  },
  "language_info": {
   "codemirror_mode": {
    "name": "ipython",
    "version": 3
   },
   "file_extension": ".py",
   "mimetype": "text/x-python",
   "name": "python",
   "nbconvert_exporter": "python",
   "pygments_lexer": "ipython3",
   "version": "3.6.5"
  }
 },
 "nbformat": 4,
 "nbformat_minor": 2
}
