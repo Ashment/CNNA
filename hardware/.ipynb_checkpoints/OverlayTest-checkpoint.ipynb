{
 "cells": [
  {
   "cell_type": "code",
   "execution_count": 1,
   "metadata": {},
   "outputs": [
    {
     "data": {
      "application/javascript": [
       "\n",
       "try {\n",
       "require(['notebook/js/codecell'], function(codecell) {\n",
       "  codecell.CodeCell.options_default.highlight_modes[\n",
       "      'magic_text/x-csrc'] = {'reg':[/^%%microblaze/]};\n",
       "  Jupyter.notebook.events.one('kernel_ready.Kernel', function(){\n",
       "      Jupyter.notebook.get_cells().map(function(cell){\n",
       "          if (cell.cell_type == 'code'){ cell.auto_highlight(); } }) ;\n",
       "  });\n",
       "});\n",
       "} catch (e) {};\n"
      ]
     },
     "metadata": {},
     "output_type": "display_data"
    }
   ],
   "source": [
    "from pynq import Overlay\n",
    "from pynq import allocate\n",
    "import time\n",
    "import numpy as np"
   ]
  },
  {
   "cell_type": "code",
   "execution_count": 2,
   "metadata": {},
   "outputs": [],
   "source": [
    "# Load Overlay\n",
    "overlay = Overlay('./cnna.bit')"
   ]
  },
  {
   "cell_type": "code",
   "execution_count": 3,
   "metadata": {},
   "outputs": [],
   "source": [
    "overlay?"
   ]
  },
  {
   "cell_type": "code",
   "execution_count": 4,
   "metadata": {},
   "outputs": [],
   "source": [
    "test_ip = overlay.cnna_0"
   ]
  },
  {
   "cell_type": "code",
   "execution_count": 5,
   "metadata": {},
   "outputs": [
    {
     "data": {
      "text/plain": [
       "RegisterMap {\n",
       "  out_data_i = Register(out_data_i=0),\n",
       "  out_data_o = Register(out_data_o=0),\n",
       "  out_data_o_ctrl = Register(out_data_o_ap_vld=1, RESERVED=0),\n",
       "  Memory_in_data = Register(value=0),\n",
       "  Memory_in_weights = Register(value=0)\n",
       "}"
      ]
     },
     "execution_count": 5,
     "metadata": {},
     "output_type": "execute_result"
    }
   ],
   "source": [
    "test_ip.register_map"
   ]
  },
  {
   "cell_type": "markdown",
   "metadata": {},
   "source": [
    "```c\n",
    "// ==============================================================\n",
    "// Vitis HLS - High-Level Synthesis from C, C++ and OpenCL v2020.1 (64-bit)\n",
    "// Copyright 1986-2020 Xilinx, Inc. All Rights Reserved.\n",
    "// ==============================================================\n",
    "// control\n",
    "// 0x00 : reserved\n",
    "// 0x04 : reserved\n",
    "// 0x08 : reserved\n",
    "// 0x0c : reserved\n",
    "// 0x40 : Data signal of out_data_i\n",
    "//        bit 31~0 - out_data_i[31:0] (Read/Write)\n",
    "// 0x44 : reserved\n",
    "// 0x48 : Data signal of out_data_o\n",
    "//        bit 31~0 - out_data_o[31:0] (Read)\n",
    "// 0x4c : Control signal of out_data_o\n",
    "//        bit 0  - out_data_o_ap_vld (Read/COR)\n",
    "//        others - reserved\n",
    "// 0x10 ~\n",
    "// 0x1f : Memory 'in_data' (9 * 8b)\n",
    "//        Word n : bit [ 7: 0] - in_data[4n]\n",
    "//                 bit [15: 8] - in_data[4n+1]\n",
    "//                 bit [23:16] - in_data[4n+2]\n",
    "//                 bit [31:24] - in_data[4n+3]\n",
    "// 0x20 ~\n",
    "// 0x3f : Memory 'in_weights' (27 * 8b)\n",
    "//        Word n : bit [ 7: 0] - in_weights[4n]\n",
    "//                 bit [15: 8] - in_weights[4n+1]\n",
    "//                 bit [23:16] - in_weights[4n+2]\n",
    "//                 bit [31:24] - in_weights[4n+3]\n",
    "// (SC = Self Clear, COR = Clear on Read, TOW = Toggle on Write, COH = Clear on Handshake)\n",
    "```"
   ]
  },
  {
   "cell_type": "code",
   "execution_count": 6,
   "metadata": {},
   "outputs": [
    {
     "name": "stdout",
     "output_type": "stream",
     "text": [
      "(3, 3)\n",
      "(3, 3, 3)\n"
     ]
    }
   ],
   "source": [
    "in1 = allocate(shape=(3,3), dtype='int8')\n",
    "in2 = allocate(shape=(3,3,3), dtype='int8')\n",
    "print(in1.shape)\n",
    "#print(in1.physical_address)\n",
    "print(in2.shape)\n",
    "#print(in2.physical_address)"
   ]
  },
  {
   "cell_type": "code",
   "execution_count": 7,
   "metadata": {},
   "outputs": [
    {
     "name": "stdout",
     "output_type": "stream",
     "text": [
      "[[5 5 5]\n",
      " [5 5 5]\n",
      " [5 5 5]]\n",
      "= = = = =\n",
      "[[[2 2 2]\n",
      "  [3 3 3]\n",
      "  [4 4 4]]\n",
      "\n",
      " [[3 3 3]\n",
      "  [4 4 4]\n",
      "  [5 5 5]]\n",
      "\n",
      " [[4 4 4]\n",
      "  [5 5 5]\n",
      "  [6 6 6]]]\n"
     ]
    }
   ],
   "source": [
    "tarr1 = np.array([[5,5,5],[5,5,5],[5,5,5]], np.int8)\n",
    "tarr2 = np.array([\n",
    "    [[2,2,2],[3,3,3],[4,4,4]],\n",
    "    [[3,3,3],[4,4,4],[5,5,5]],\n",
    "    [[4,4,4],[5,5,5],[6,6,6]]], np.int8)\n",
    "\n",
    "print(tarr1)\n",
    "print(\"= = = = =\")\n",
    "print(tarr2)"
   ]
  },
  {
   "cell_type": "code",
   "execution_count": 10,
   "metadata": {},
   "outputs": [
    {
     "name": "stdout",
     "output_type": "stream",
     "text": [
      "[[5 5 5]\n",
      " [5 5 5]\n",
      " [5 5 5]]\n",
      "\n",
      "= = = = = =\n",
      "\n",
      "[[[2 2 2]\n",
      "  [3 3 3]\n",
      "  [4 4 4]]\n",
      "\n",
      " [[3 3 3]\n",
      "  [4 4 4]\n",
      "  [5 5 5]]\n",
      "\n",
      " [[4 4 4]\n",
      "  [5 5 5]\n",
      "  [6 6 6]]]\n"
     ]
    }
   ],
   "source": [
    "#np.copyto(in1, tarr1)\n",
    "#np.copyto(in2, tarr2)\n",
    "for i in range(3):\n",
    "    for j in range(3):\n",
    "        in1[i][j] = tarr1[i][j]\n",
    "    \n",
    "for i in range(3):\n",
    "    for j in range(3):\n",
    "        for k in range(3):\n",
    "            in2[i][j][k] = tarr2[i][j][k]\n",
    "            \n",
    "print(in1)\n",
    "print('\\n= = = = = =\\n')\n",
    "print(in2)"
   ]
  },
  {
   "cell_type": "code",
   "execution_count": 11,
   "metadata": {},
   "outputs": [
    {
     "name": "stdout",
     "output_type": "stream",
     "text": [
      "0.0008459091186523438\n",
      "out_i: 0x0\n",
      "out_o: 0xe6\n"
     ]
    }
   ],
   "source": [
    "in1s = 0x10\n",
    "in2s = 0x20\n",
    "\n",
    "t1 = time.time()\n",
    "\n",
    "i = 0\n",
    "\n",
    "'''\n",
    "while i < 9:\n",
    "    if(i%4 == 0):\n",
    "        print(\">at offset\",hex(i))\n",
    "        if(i+4 < in1.shape[0]):\n",
    "            tdat = in1[i:i+4].tobytes()\n",
    "        else:\n",
    "            tdat = in1[i:].tobytes()\n",
    "            \n",
    "        print(tdat)\n",
    "        test_ip.write(in1s+i, tdat)\n",
    "        \n",
    "        if(i+4 < in1.shape[0]):\n",
    "            tdat = in2[i:i+4].tobytes()\n",
    "        else:\n",
    "            tdat = in2[i:].tobytes()\n",
    "            \n",
    "        print(tdat)\n",
    "        test_ip.write(in2s+i, tdat)\n",
    "    i += 1\n",
    "'''\n",
    "\n",
    "\n",
    "#test_ip.register_map.Memory_in_data = in1\n",
    "#test_ip.register_map.Memory_in_weights = in2\n",
    "\n",
    "test_ip.write(in1s, in1.physical_address)\n",
    "test_ip.write(in2s, in2.physical_address)\n",
    "\n",
    "t2 = time.time()\n",
    "\n",
    "print(t2-t1)\n",
    "print(\"out_i:\", test_ip.register_map.out_data_i)"
   ]
  },
  {
   "cell_type": "code",
   "execution_count": 12,
   "metadata": {},
   "outputs": [
    {
     "name": "stdout",
     "output_type": "stream",
     "text": [
      "out_i: 0x0\n",
      "out_o: 0xe6\n"
     ]
    }
   ],
   "source": [
    "print(\"out_i:\", test_ip.register_map.out_data_i)"
   ]
  }
 ],
 "metadata": {
  "kernelspec": {
   "display_name": "Python 3",
   "language": "python",
   "name": "python3"
  },
  "language_info": {
   "codemirror_mode": {
    "name": "ipython",
    "version": 3
   },
   "file_extension": ".py",
   "mimetype": "text/x-python",
   "name": "python",
   "nbconvert_exporter": "python",
   "pygments_lexer": "ipython3",
   "version": "3.6.5"
  }
 },
 "nbformat": 4,
 "nbformat_minor": 2
}
