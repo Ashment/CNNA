{
 "cells": [
  {
   "cell_type": "code",
   "execution_count": 1,
   "metadata": {},
   "outputs": [
    {
     "data": {
      "application/javascript": [
       "\n",
       "try {\n",
       "require(['notebook/js/codecell'], function(codecell) {\n",
       "  codecell.CodeCell.options_default.highlight_modes[\n",
       "      'magic_text/x-csrc'] = {'reg':[/^%%microblaze/]};\n",
       "  Jupyter.notebook.events.one('kernel_ready.Kernel', function(){\n",
       "      Jupyter.notebook.get_cells().map(function(cell){\n",
       "          if (cell.cell_type == 'code'){ cell.auto_highlight(); } }) ;\n",
       "  });\n",
       "});\n",
       "} catch (e) {};\n"
      ]
     },
     "metadata": {},
     "output_type": "display_data"
    }
   ],
   "source": [
    "from pynq import Overlay\n",
    "from pynq import allocate\n",
    "import time\n",
    "import numpy as np"
   ]
  },
  {
   "cell_type": "code",
   "execution_count": 2,
   "metadata": {},
   "outputs": [],
   "source": [
    "# Load Overlay\n",
    "overlay = Overlay('./cnna.bit')"
   ]
  },
  {
   "cell_type": "code",
   "execution_count": 3,
   "metadata": {},
   "outputs": [],
   "source": [
    "overlay?"
   ]
  },
  {
   "cell_type": "code",
   "execution_count": 4,
   "metadata": {},
   "outputs": [],
   "source": [
    "test_ip = overlay.mult_acc"
   ]
  },
  {
   "cell_type": "markdown",
   "metadata": {},
   "source": [
    "```c\n",
    "// control\n",
    "// 0x00 : reserved\n",
    "// 0x04 : reserved\n",
    "// 0x08 : reserved\n",
    "// 0x0c : reserved\n",
    "// 0x30 : Data signal of out_data_i\n",
    "//        bit 31~0 - out_data_i[31:0] (Read/Write)\n",
    "// 0x34 : reserved\n",
    "// 0x38 : Data signal of out_data_o\n",
    "//        bit 31~0 - out_data_o[31:0] (Read)\n",
    "// 0x3c : Control signal of out_data_o\n",
    "//        bit 0  - out_data_o_ap_vld (Read/COR)\n",
    "//        others - reserved\n",
    "// 0x10 ~\n",
    "// 0x1f : Memory 'in_data' (9 * 8b)\n",
    "//        Word n : bit [ 7: 0] - in_data[4n]\n",
    "//                 bit [15: 8] - in_data[4n+1]\n",
    "//                 bit [23:16] - in_data[4n+2]\n",
    "//                 bit [31:24] - in_data[4n+3]\n",
    "// 0x20 ~\n",
    "// 0x2f : Memory 'in_weights' (9 * 8b)\n",
    "//        Word n : bit [ 7: 0] - in_weights[4n]\n",
    "//                 bit [15: 8] - in_weights[4n+1]\n",
    "//                 bit [23:16] - in_weights[4n+2]\n",
    "//                 bit [31:24] - in_weights[4n+3]\n",
    "// (SC = Self Clear, COR = Clear on Read, TOW = Toggle on Write, COH = Clear on Handshake)\n",
    "```"
   ]
  },
  {
   "cell_type": "code",
   "execution_count": 10,
   "metadata": {},
   "outputs": [],
   "source": [
    "in1 = allocate(shape=(12,), dtype='int8')\n",
    "in2 = allocate(shape=(12,), dtype='int8')"
   ]
  },
  {
   "cell_type": "code",
   "execution_count": 11,
   "metadata": {},
   "outputs": [
    {
     "name": "stdout",
     "output_type": "stream",
     "text": [
      "(12,) (12,)\n",
      "[ 1  2  3  4  5  6  7  8 12  0  0  0] [2 2 2 3 3 3 4 4 4 0 0 0]\n",
      "b'\\x01\\x02\\x03\\x04'\n",
      "<class 'bytes'>\n"
     ]
    }
   ],
   "source": [
    "inarr1 = [1,2,3,4,5,6,7,8,12]\n",
    "inarr2 = [2,2,2,3,3,3,4,4,4]\n",
    "for i in range(9):\n",
    "    in1[i] = inarr1[i]\n",
    "    in2[i] = inarr2[i]\n",
    "    \n",
    "print(in1.shape, in2.shape)\n",
    "print(in1, in2)\n",
    "print(in1[0:4].tobytes())\n",
    "print(type(in1[0].tobytes()))"
   ]
  },
  {
   "cell_type": "code",
   "execution_count": 12,
   "metadata": {},
   "outputs": [
    {
     "data": {
      "text/plain": [
       "RegisterMap {\n",
       "  out_data_i = Register(out_data_i=0),\n",
       "  out_data_o = Register(out_data_o=117),\n",
       "  out_data_o_ctrl = Register(out_data_o_ap_vld=1, RESERVED=0),\n",
       "  Memory_in_data = Register(value=67305985),\n",
       "  Memory_in_weights = Register(value=50463234)\n",
       "}"
      ]
     },
     "execution_count": 12,
     "metadata": {},
     "output_type": "execute_result"
    }
   ],
   "source": [
    "test_ip.register_map"
   ]
  },
  {
   "cell_type": "code",
   "execution_count": 17,
   "metadata": {},
   "outputs": [
    {
     "name": "stdout",
     "output_type": "stream",
     "text": [
      ">at offset 0x0\n",
      "b'\\x01\\x02\\x03\\x04'\n",
      "b'\\x02\\x02\\x02\\x03'\n",
      ">at offset 0x4\n",
      "b'\\x05\\x06\\x07\\x08'\n",
      "b'\\x03\\x03\\x04\\x04'\n",
      ">at offset 0x8\n",
      "b'\\x0c\\x00\\x00\\x00'\n",
      "b'\\x04\\x00\\x00\\x00'\n",
      "0.005174875259399414\n",
      "out: 0x0\n"
     ]
    }
   ],
   "source": [
    "in1s = 0x10\n",
    "in2s = 0x20\n",
    "\n",
    "t1 = time.time()\n",
    "\n",
    "\n",
    "i = 0\n",
    "while i < 9:\n",
    "    if(i%4 == 0):\n",
    "        print(\">at offset\",hex(i))\n",
    "        if(i+4 < in1.shape[0]):\n",
    "            tdat = in1[i:i+4].tobytes()\n",
    "        else:\n",
    "            tdat = in1[i:].tobytes()\n",
    "            \n",
    "        print(tdat)\n",
    "        test_ip.write(in1s+i, tdat)\n",
    "        \n",
    "        if(i+4 < in1.shape[0]):\n",
    "            tdat = in2[i:i+4].tobytes()\n",
    "        else:\n",
    "            tdat = in2[i:].tobytes()\n",
    "            \n",
    "        print(tdat)\n",
    "        test_ip.write(in2s+i, tdat)\n",
    "    i += 1\n",
    "\n",
    "#test_ip.register_map.Memory_in_data = in1\n",
    "#test_ip.register_map.Memory_in_weights = in2\n",
    "\n",
    "#test_ip.write(in1s, in1.tobytes())\n",
    "#test_ip.write(in2s, in2.tobytes())\n",
    "\n",
    "t2 = time.time()\n",
    "print(t2-t1)\n",
    "print(\"out:\", test_ip.register_map.out_data_i)"
   ]
  },
  {
   "cell_type": "code",
   "execution_count": null,
   "metadata": {},
   "outputs": [],
   "source": []
  },
  {
   "cell_type": "code",
   "execution_count": null,
   "metadata": {},
   "outputs": [],
   "source": []
  }
 ],
 "metadata": {
  "kernelspec": {
   "display_name": "Python 3",
   "language": "python",
   "name": "python3"
  },
  "language_info": {
   "codemirror_mode": {
    "name": "ipython",
    "version": 3
   },
   "file_extension": ".py",
   "mimetype": "text/x-python",
   "name": "python",
   "nbconvert_exporter": "python",
   "pygments_lexer": "ipython3",
   "version": "3.6.5"
  }
 },
 "nbformat": 4,
 "nbformat_minor": 2
}
