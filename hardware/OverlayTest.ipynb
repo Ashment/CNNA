{
 "cells": [
  {
   "cell_type": "code",
   "execution_count": 1,
   "metadata": {},
   "outputs": [
    {
     "data": {
      "application/javascript": [
       "\n",
       "try {\n",
       "require(['notebook/js/codecell'], function(codecell) {\n",
       "  codecell.CodeCell.options_default.highlight_modes[\n",
       "      'magic_text/x-csrc'] = {'reg':[/^%%microblaze/]};\n",
       "  Jupyter.notebook.events.one('kernel_ready.Kernel', function(){\n",
       "      Jupyter.notebook.get_cells().map(function(cell){\n",
       "          if (cell.cell_type == 'code'){ cell.auto_highlight(); } }) ;\n",
       "  });\n",
       "});\n",
       "} catch (e) {};\n"
      ]
     },
     "metadata": {},
     "output_type": "display_data"
    }
   ],
   "source": [
    "from pynq import Overlay\n",
    "from pynq import allocate\n",
    "import math\n",
    "import time\n",
    "import numpy as np"
   ]
  },
  {
   "cell_type": "code",
   "execution_count": 2,
   "metadata": {},
   "outputs": [],
   "source": [
    "# Load Overlay\n",
    "overlay = Overlay('./Overlay/cnna.bit')"
   ]
  },
  {
   "cell_type": "code",
   "execution_count": 3,
   "metadata": {},
   "outputs": [],
   "source": [
    "overlay?"
   ]
  },
  {
   "cell_type": "code",
   "execution_count": 4,
   "metadata": {},
   "outputs": [],
   "source": [
    "test_ip = overlay.cnna_0"
   ]
  },
  {
   "cell_type": "code",
   "execution_count": 5,
   "metadata": {
    "scrolled": true
   },
   "outputs": [
    {
     "data": {
      "text/plain": [
       "RegisterMap {\n",
       "  CTRL = Register(AP_START=0, AP_DONE=0, AP_IDLE=1, AP_READY=0, RESERVED_1=0, AUTO_RESTART=0, RESERVED_2=0),\n",
       "  GIER = Register(Enable=0, RESERVED=0),\n",
       "  IP_IER = Register(CHAN0_INT_EN=0, CHAN1_INT_EN=0, RESERVED=0),\n",
       "  IP_ISR = Register(CHAN0_INT_ST=0, CHAN1_INT_ST=0, RESERVED=0),\n",
       "  in_data_1 = Register(in_data=0),\n",
       "  in_data_2 = Register(in_data=0),\n",
       "  in_weights_1 = Register(in_weights=0),\n",
       "  in_weights_2 = Register(in_weights=0),\n",
       "  out_r_1 = Register(out_r=0),\n",
       "  out_r_2 = Register(out_r=0)\n",
       "}"
      ]
     },
     "execution_count": 5,
     "metadata": {},
     "output_type": "execute_result"
    }
   ],
   "source": [
    "test_ip.register_map"
   ]
  },
  {
   "cell_type": "markdown",
   "metadata": {},
   "source": [
    "```c\n",
    "// control\n",
    "// 0x00 : Control signals\n",
    "//        bit 0  - ap_start (Read/Write/COH)\n",
    "//        bit 1  - ap_done (Read/COR)\n",
    "//        bit 2  - ap_idle (Read)\n",
    "//        bit 3  - ap_ready (Read)\n",
    "//        bit 7  - auto_restart (Read/Write)\n",
    "//        others - reserved\n",
    "// 0x04 : Global Interrupt Enable Register\n",
    "//        bit 0  - Global Interrupt Enable (Read/Write)\n",
    "//        others - reserved\n",
    "// 0x08 : IP Interrupt Enable Register (Read/Write)\n",
    "//        bit 0  - enable ap_done interrupt (Read/Write)\n",
    "//        bit 1  - enable ap_ready interrupt (Read/Write)\n",
    "//        others - reserved\n",
    "// 0x0c : IP Interrupt Status Register (Read/TOW)\n",
    "//        bit 0  - ap_done (COR/TOW)\n",
    "//        bit 1  - ap_ready (COR/TOW)\n",
    "//        others - reserved\n",
    "// 0x10 : Data signal of in_data\n",
    "//        bit 31~0 - in_data[31:0] (Read/Write)\n",
    "// 0x14 : Data signal of in_data\n",
    "//        bit 31~0 - in_data[63:32] (Read/Write)\n",
    "// 0x18 : reserved\n",
    "// 0x1c : Data signal of in_weights\n",
    "//        bit 31~0 - in_weights[31:0] (Read/Write)\n",
    "// 0x20 : Data signal of in_weights\n",
    "//        bit 31~0 - in_weights[63:32] (Read/Write)\n",
    "// 0x24 : reserved\n",
    "// 0x28 : Data signal of out_r\n",
    "//        bit 31~0 - out_r[31:0] (Read/Write)\n",
    "// 0x2c : Data signal of out_r\n",
    "//        bit 31~0 - out_r[63:32] (Read/Write)\n",
    "// 0x30 : reserved\n",
    "// (SC = Self Clear, COR = Clear on Read, TOW = Toggle on Write, COH = Clear on Handshake)\n",
    "\n",
    "```"
   ]
  },
  {
   "cell_type": "code",
   "execution_count": 6,
   "metadata": {},
   "outputs": [],
   "source": [
    "# Method for FP and FxP conversion.\n",
    "def FloatToFix(infloat, outW, outI, verbose=False):\n",
    "    # Convert integer part\n",
    "    inint = math.floor(abs(infloat))\n",
    "    binint = bin(inint).replace(\"0b\",\"\")\n",
    "    if(math.floor(abs(infloat)) >= 2**(outI-1)):\n",
    "        raise Exception(\"Number too large for integer width\")\n",
    "    while len(binint) < (outI): \n",
    "        binint = '0' + binint\n",
    "        \n",
    "    # Convert decimal part\n",
    "    indec = abs(infloat) - math.floor(abs(infloat))\n",
    "    bindec = \"\"\n",
    "    i=0\n",
    "    while (len(bindec) < (outW - outI)):\n",
    "        i -= 1\n",
    "        if(indec >= (2**(i))):\n",
    "            indec -= 2**(i)\n",
    "            bindec += '1'\n",
    "        else:\n",
    "            bindec += '0'   \n",
    "    outbin = binint + bindec # Unsigned\n",
    "    print(\"Float -> Fix:\", infloat, \" |\", binint, bindec) if verbose else None\n",
    "    print(\"Before TC:\", outbin) if verbose else None\n",
    "    \n",
    "    # Twos Complement\n",
    "    # Convert if negative\n",
    "    if(infloat < 0):\n",
    "        newbin = ''\n",
    "        # Flip everything\n",
    "        for ec in outbin:\n",
    "            if(ec == '0'):\n",
    "                newbin += '1'\n",
    "            else:\n",
    "                newbin += '0'\n",
    "        outbin = newbin\n",
    "        # Flip tail until first 0 (add 1)\n",
    "        newbin = ''\n",
    "        addFlip = True\n",
    "        for i in range(outW):\n",
    "            if(outbin[-(i+1)] == '0'):\n",
    "                if addFlip:\n",
    "                    newbin = '1' + newbin\n",
    "                else:\n",
    "                    newbin = '0' + newbin\n",
    "                # Stop Flipping\n",
    "                addFlip = False\n",
    "            else:\n",
    "                if addFlip:\n",
    "                    newbin = '0' + newbin\n",
    "                else:\n",
    "                    newbin = '1' + newbin\n",
    "        outbin = newbin\n",
    "    # End TC Conversion\n",
    "    print(\"After TC: \", outbin) if verbose else None\n",
    "    \n",
    "    outdec=0\n",
    "    for i in range(outW):\n",
    "        if(outbin[-(i+1)] == '1'):\n",
    "            outdec += (2**i)\n",
    "    \n",
    "    #print(outdec, outbin)\n",
    "    return outdec"
   ]
  },
  {
   "cell_type": "code",
   "execution_count": 7,
   "metadata": {},
   "outputs": [
    {
     "name": "stdout",
     "output_type": "stream",
     "text": [
      "Float -> Fix: 0.5  | 0 1000000\n",
      "Before TC: 01000000\n",
      "After TC:  01000000\n"
     ]
    },
    {
     "data": {
      "text/plain": [
       "64"
      ]
     },
     "execution_count": 7,
     "metadata": {},
     "output_type": "execute_result"
    }
   ],
   "source": [
    "FloatToFix(0.5, 8, 1, verbose=True)"
   ]
  },
  {
   "cell_type": "code",
   "execution_count": 8,
   "metadata": {},
   "outputs": [],
   "source": [
    "def FixToFloat(inFix, inW, inI, verbose=False):\n",
    "    inbin = bin(inFix).replace(\"0b\", \"\")\n",
    "    while len(inbin) < inW:\n",
    "        inbin = '0'+ inbin\n",
    "    print(\"Fix -> Float:\", inFix, \" |\", inbin[:inI], inbin[inI:]) if verbose else None\n",
    "    \n",
    "    neg = False\n",
    "    print(\"Before TC:\", inbin)\n",
    "    if(inbin[0] == '1'):\n",
    "        neg = True\n",
    "        newbin = ''\n",
    "        # Flip everything\n",
    "        for ec in inbin:\n",
    "            if(ec == '0'):\n",
    "                newbin += '1'\n",
    "            else:\n",
    "                newbin += '0'\n",
    "        inbin = newbin\n",
    "        # Flip tail until first 0 (add 1)\n",
    "        newbin = ''\n",
    "        addFlip = True\n",
    "        for i in range(inW):\n",
    "            if(inbin[-(i+1)] == '0'):\n",
    "                if addFlip:\n",
    "                    newbin = '1' + newbin\n",
    "                else:\n",
    "                    newbin = '0' + newbin\n",
    "                # Stop Flipping\n",
    "                addFlip = False\n",
    "            else:\n",
    "                if addFlip:\n",
    "                    newbin = '0' + newbin\n",
    "                else:\n",
    "                    newbin = '1' + newbin\n",
    "        inbin = newbin\n",
    "    print(\"After TC:\", inbin)\n",
    "    \n",
    "    binint = inbin[:inI]\n",
    "    binint = binint[::-1]\n",
    "    outI = 0\n",
    "    for i in range(len(binint)):\n",
    "        if(binint[i] == '1'):\n",
    "            outI += 2**i\n",
    "    \n",
    "    bindec = inbin[inI:]\n",
    "    outD = 0\n",
    "    for i in range(len(bindec)):\n",
    "        if(bindec[i] == '1'):\n",
    "            outD += 2**(-i-1)\n",
    "    out = outI + outD\n",
    "    if neg:\n",
    "        out = out * -1\n",
    "    #print(outI+outD, inbin)\n",
    "    return out"
   ]
  },
  {
   "cell_type": "code",
   "execution_count": 9,
   "metadata": {},
   "outputs": [
    {
     "name": "stdout",
     "output_type": "stream",
     "text": [
      "Fix -> Float: 64  | 0 1000000\n",
      "Before TC: 01000000\n",
      "After TC: 01000000\n"
     ]
    },
    {
     "data": {
      "text/plain": [
       "0.5"
      ]
     },
     "execution_count": 9,
     "metadata": {},
     "output_type": "execute_result"
    }
   ],
   "source": [
    "FixToFloat(64, 8, 1, verbose=True)"
   ]
  },
  {
   "cell_type": "code",
   "execution_count": 10,
   "metadata": {},
   "outputs": [
    {
     "name": "stdout",
     "output_type": "stream",
     "text": [
      "(3, 3, 3)\n",
      "(3, 3, 3)\n"
     ]
    }
   ],
   "source": [
    "in1 = allocate(shape=(3,3,3), cacheable=1, dtype='uint16')\n",
    "in2 = allocate(shape=(3,3,3), cacheable=1, dtype='uint8')\n",
    "print(in1.shape)\n",
    "#print(in1.physical_address)\n",
    "print(in2.shape)\n",
    "#print(in2.physical_address)"
   ]
  },
  {
   "cell_type": "code",
   "execution_count": 11,
   "metadata": {},
   "outputs": [
    {
     "name": "stdout",
     "output_type": "stream",
     "text": [
      "0.1 => 102\n",
      "0.2 => 204\n",
      "0.3 => 307\n",
      "0.5 => 512\n",
      "1 => 1024\n",
      "1.5 => 2560\n",
      "2 => 2048\n",
      "-1 => 64512\n",
      "-1.5 => 64000\n",
      "-2 => 63488\n"
     ]
    }
   ],
   "source": [
    "# ap_fixed<16,6> 0000 00.00 0000 0000 \n",
    "print(\"0.1 =>\", FloatToFix(0.1, 16, 6))\n",
    "print(\"0.2 =>\", FloatToFix(0.2, 16, 6))\n",
    "print(\"0.3 =>\", FloatToFix(0.3, 16, 6))\n",
    "print(\"0.5 =>\", FloatToFix(0.5, 16, 6))\n",
    "print(\"1 =>\", FloatToFix(1, 16, 6))\n",
    "print(\"1.5 =>\", FloatToFix(2.5, 16, 6))\n",
    "print(\"2 =>\", FloatToFix(2, 16, 6))\n",
    "print(\"-1 =>\", FloatToFix(-1, 16, 6))\n",
    "print(\"-1.5 =>\", FloatToFix(-1.5, 16, 6))\n",
    "print(\"-2 =>\", FloatToFix(-2, 16, 6))"
   ]
  },
  {
   "cell_type": "code",
   "execution_count": 12,
   "metadata": {},
   "outputs": [
    {
     "name": "stdout",
     "output_type": "stream",
     "text": [
      "(3, 3, 3)\n",
      "[[[ 1024  1024  1024]\n",
      "  [ 2048  2048  2048]\n",
      "  [ 2560  2560  2560]]\n",
      "\n",
      " [[64512 64000 63488]\n",
      "  [64512 64000 63488]\n",
      "  [64512 64000 63488]]\n",
      "\n",
      " [[ 1024  2560  2048]\n",
      "  [64512 64000 63488]\n",
      "  [ 1024  2560  2048]]]\n",
      "= = = = =\n",
      "(3, 3, 3)\n",
      "[[[64 64 64]\n",
      "  [64 64 64]\n",
      "  [64 64 64]]\n",
      "\n",
      " [[64 64 64]\n",
      "  [64 64 64]\n",
      "  [64 64 64]]\n",
      "\n",
      " [[64 64 64]\n",
      "  [64 64 64]\n",
      "  [64 64 64]]]\n"
     ]
    }
   ],
   "source": [
    "\n",
    "tarr1 = np.array([\n",
    "    [[1024,1024,1024],[2048,2048,2048],[2560,2560,2560]],\n",
    "    [[64512,64000,63488],[64512,64000,63488],[64512,64000,63488]],\n",
    "    [[1024,2560,2048],[64512,64000,63488],[1024,2560,2048]]], dtype=np.uint16)\n",
    "\n",
    "tarr2 = np.full((3,3,3), FloatToFix(0.5, 8, 1), dtype=np.uint8)\n",
    "\n",
    "\n",
    "print(tarr1.shape)\n",
    "print(tarr1)\n",
    "print(\"= = = = =\")\n",
    "print(tarr2.shape)\n",
    "print(tarr2)"
   ]
  },
  {
   "cell_type": "code",
   "execution_count": 13,
   "metadata": {},
   "outputs": [],
   "source": [
    "np.copyto(in1, tarr1)\n",
    "np.copyto(in2, tarr2)"
   ]
  },
  {
   "cell_type": "code",
   "execution_count": 14,
   "metadata": {},
   "outputs": [],
   "source": [
    "#for i in range(3):\n",
    "#    for j in range(3):\n",
    "#        for k in range(3):\n",
    "#            in1[i][j][k] = tarr1[i][j][k]\n",
    "#            in2[i][j][k] = tarr2[i][j][k]"
   ]
  },
  {
   "cell_type": "code",
   "execution_count": 15,
   "metadata": {},
   "outputs": [
    {
     "name": "stdout",
     "output_type": "stream",
     "text": [
      "[[[ 1024  1024  1024]\n",
      "  [ 2048  2048  2048]\n",
      "  [ 2560  2560  2560]]\n",
      "\n",
      " [[64512 64000 63488]\n",
      "  [64512 64000 63488]\n",
      "  [64512 64000 63488]]\n",
      "\n",
      " [[ 1024  2560  2048]\n",
      "  [64512 64000 63488]\n",
      "  [ 1024  2560  2048]]]\n",
      "\n",
      "= = = = = =\n",
      "\n",
      "[[[64 64 64]\n",
      "  [64 64 64]\n",
      "  [64 64 64]]\n",
      "\n",
      " [[64 64 64]\n",
      "  [64 64 64]\n",
      "  [64 64 64]]\n",
      "\n",
      " [[64 64 64]\n",
      "  [64 64 64]\n",
      "  [64 64 64]]]\n"
     ]
    }
   ],
   "source": [
    "print(in1)\n",
    "print('\\n= = = = = =\\n')\n",
    "print(in2)"
   ]
  },
  {
   "cell_type": "code",
   "execution_count": 16,
   "metadata": {},
   "outputs": [
    {
     "name": "stdout",
     "output_type": "stream",
     "text": [
      "[[0 0 0]\n",
      " [0 0 0]\n",
      " [0 0 0]]\n"
     ]
    }
   ],
   "source": [
    "# Allocate memory to store output\n",
    "out = allocate(shape=(3,3), dtype='uint16')\n",
    "print(out)"
   ]
  },
  {
   "cell_type": "code",
   "execution_count": 17,
   "metadata": {},
   "outputs": [
    {
     "name": "stdout",
     "output_type": "stream",
     "text": [
      "0.0012135505676269531\n",
      "out: [[ 1536  3072  3840]\n",
      " [63232 63232 63232]\n",
      " [ 2816 63232  2816]]\n"
     ]
    }
   ],
   "source": [
    "in1s = 0x10\n",
    "in2s = 0x1c\n",
    "outs = 0x28\n",
    "\n",
    "t1 = time.time()\n",
    "\n",
    "i = 0\n",
    "\n",
    "'''\n",
    "while i < 9:\n",
    "    if(i%4 == 0):\n",
    "        print(\">at offset\",hex(i))\n",
    "        if(i+4 < in1.shape[0]):\n",
    "            tdat = in1[i:i+4].tobytes()\n",
    "        else:\n",
    "            tdat = in1[i:].tobytes()\n",
    "            \n",
    "        print(tdat)\n",
    "        test_ip.write(in1s+i, tdat)\n",
    "        \n",
    "        if(i+4 < in1.shape[0]):\n",
    "            tdat = in2[i:i+4].tobytes()\n",
    "        else:\n",
    "            tdat = in2[i:].tobytes()\n",
    "            \n",
    "        print(tdat)\n",
    "        test_ip.write(in2s+i, tdat)\n",
    "    i += 1\n",
    "'''\n",
    "\n",
    "\n",
    "#test_ip.register_map.Memory_in_data = in1\n",
    "#test_ip.register_map.Memory_in_weights = in2\n",
    "\n",
    "test_ip.write(in1s, in1.physical_address)\n",
    "test_ip.write(in2s, in2.physical_address)\n",
    "test_ip.write(outs, out.physical_address)\n",
    "test_ip.write(0x00, 1)\n",
    "\n",
    "t2 = time.time()\n",
    "\n",
    "print(t2-t1)\n",
    "print(\"out:\", out)"
   ]
  },
  {
   "cell_type": "code",
   "execution_count": 18,
   "metadata": {},
   "outputs": [
    {
     "name": "stdout",
     "output_type": "stream",
     "text": [
      "Before TC: 0000110000000000\n",
      "After TC: 0000110000000000\n"
     ]
    },
    {
     "data": {
      "text/plain": [
       "3"
      ]
     },
     "execution_count": 18,
     "metadata": {},
     "output_type": "execute_result"
    }
   ],
   "source": [
    "FixToFloat(3072, 16, 6)"
   ]
  },
  {
   "cell_type": "code",
   "execution_count": null,
   "metadata": {},
   "outputs": [],
   "source": []
  }
 ],
 "metadata": {
  "kernelspec": {
   "display_name": "Python 3",
   "language": "python",
   "name": "python3"
  },
  "language_info": {
   "codemirror_mode": {
    "name": "ipython",
    "version": 3
   },
   "file_extension": ".py",
   "mimetype": "text/x-python",
   "name": "python",
   "nbconvert_exporter": "python",
   "pygments_lexer": "ipython3",
   "version": "3.6.5"
  }
 },
 "nbformat": 4,
 "nbformat_minor": 2
}
