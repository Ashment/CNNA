{
 "cells": [
  {
   "cell_type": "code",
   "execution_count": 1,
   "metadata": {},
   "outputs": [
    {
     "data": {
      "application/javascript": [
       "\n",
       "try {\n",
       "require(['notebook/js/codecell'], function(codecell) {\n",
       "  codecell.CodeCell.options_default.highlight_modes[\n",
       "      'magic_text/x-csrc'] = {'reg':[/^%%microblaze/]};\n",
       "  Jupyter.notebook.events.one('kernel_ready.Kernel', function(){\n",
       "      Jupyter.notebook.get_cells().map(function(cell){\n",
       "          if (cell.cell_type == 'code'){ cell.auto_highlight(); } }) ;\n",
       "  });\n",
       "});\n",
       "} catch (e) {};\n"
      ]
     },
     "metadata": {},
     "output_type": "display_data"
    }
   ],
   "source": [
    "from pynq import Overlay\n",
    "from pynq import allocate\n",
    "import time\n",
    "import numpy as np"
   ]
  },
  {
   "cell_type": "code",
   "execution_count": 2,
   "metadata": {},
   "outputs": [],
   "source": [
    "# Load Overlay\n",
    "overlay = Overlay('./Overlay/cnna.bit')"
   ]
  },
  {
   "cell_type": "code",
   "execution_count": 3,
   "metadata": {},
   "outputs": [],
   "source": [
    "overlay?"
   ]
  },
  {
   "cell_type": "code",
   "execution_count": 4,
   "metadata": {},
   "outputs": [],
   "source": [
    "test_ip = overlay.cnna_0"
   ]
  },
  {
   "cell_type": "code",
   "execution_count": 5,
   "metadata": {},
   "outputs": [
    {
     "data": {
      "text/plain": [
       "RegisterMap {\n",
       "  CTRL = Register(AP_START=0, AP_DONE=0, AP_IDLE=1, AP_READY=0, RESERVED_1=0, AUTO_RESTART=0, RESERVED_2=0),\n",
       "  GIER = Register(Enable=0, RESERVED=0),\n",
       "  IP_IER = Register(CHAN0_INT_EN=0, CHAN1_INT_EN=0, RESERVED=0),\n",
       "  IP_ISR = Register(CHAN0_INT_ST=0, CHAN1_INT_ST=0, RESERVED=0),\n",
       "  in_data_1 = Register(in_data=0),\n",
       "  in_data_2 = Register(in_data=0),\n",
       "  in_weights_1 = Register(in_weights=0),\n",
       "  in_weights_2 = Register(in_weights=0),\n",
       "  out_r_i = Register(out_r_i=0),\n",
       "  out_r_o = Register(out_r_o=0),\n",
       "  out_r_o_ctrl = Register(out_r_o_ap_vld=0, RESERVED=0)\n",
       "}"
      ]
     },
     "execution_count": 5,
     "metadata": {},
     "output_type": "execute_result"
    }
   ],
   "source": [
    "test_ip.register_map"
   ]
  },
  {
   "cell_type": "markdown",
   "metadata": {},
   "source": [
    "```c\n",
    "// ==============================================================\n",
    "// Vitis HLS - High-Level Synthesis from C, C++ and OpenCL v2020.1 (64-bit)\n",
    "// Copyright 1986-2020 Xilinx, Inc. All Rights Reserved.\n",
    "// ==============================================================\n",
    "// control\n",
    "// 0x00 : Control signals\n",
    "//        bit 0  - ap_start (Read/Write/COH)\n",
    "//        bit 1  - ap_done (Read/COR)\n",
    "//        bit 2  - ap_idle (Read)\n",
    "//        bit 3  - ap_ready (Read)\n",
    "//        bit 7  - auto_restart (Read/Write)\n",
    "//        others - reserved\n",
    "// 0x04 : Global Interrupt Enable Register\n",
    "//        bit 0  - Global Interrupt Enable (Read/Write)\n",
    "//        others - reserved\n",
    "// 0x08 : IP Interrupt Enable Register (Read/Write)\n",
    "//        bit 0  - enable ap_done interrupt (Read/Write)\n",
    "//        bit 1  - enable ap_ready interrupt (Read/Write)\n",
    "//        others - reserved\n",
    "// 0x0c : IP Interrupt Status Register (Read/TOW)\n",
    "//        bit 0  - ap_done (COR/TOW)\n",
    "//        bit 1  - ap_ready (COR/TOW)\n",
    "//        others - reserved\n",
    "// 0x10 : Data signal of in_data\n",
    "//        bit 31~0 - in_data[31:0] (Read/Write)\n",
    "// 0x14 : Data signal of in_data\n",
    "//        bit 31~0 - in_data[63:32] (Read/Write)\n",
    "// 0x18 : reserved\n",
    "// 0x1c : Data signal of in_weights\n",
    "//        bit 31~0 - in_weights[31:0] (Read/Write)\n",
    "// 0x20 : Data signal of in_weights\n",
    "//        bit 31~0 - in_weights[63:32] (Read/Write)\n",
    "// 0x24 : reserved\n",
    "// 0x28 : Data signal of out_r_i\n",
    "//        bit 31~0 - out_r_i[31:0] (Read/Write)\n",
    "// 0x2c : reserved\n",
    "// 0x30 : Data signal of out_r_o\n",
    "//        bit 31~0 - out_r_o[31:0] (Read)\n",
    "// 0x34 : Control signal of out_r_o\n",
    "//        bit 0  - out_r_o_ap_vld (Read/COR)\n",
    "//        others - reserved\n",
    "// (SC = Self Clear, COR = Clear on Read, TOW = Toggle on Write, COH = Clear on Handshake)\n",
    "```"
   ]
  },
  {
   "cell_type": "code",
   "execution_count": 6,
   "metadata": {},
   "outputs": [
    {
     "name": "stdout",
     "output_type": "stream",
     "text": [
      "(3, 3)\n",
      "(3, 3, 3)\n"
     ]
    }
   ],
   "source": [
    "in1 = allocate(shape=(3,3), dtype='int8')\n",
    "in2 = allocate(shape=(3,3,3), dtype='int8')\n",
    "print(in1.shape)\n",
    "#print(in1.physical_address)\n",
    "print(in2.shape)\n",
    "#print(in2.physical_address)"
   ]
  },
  {
   "cell_type": "code",
   "execution_count": 7,
   "metadata": {},
   "outputs": [
    {
     "name": "stdout",
     "output_type": "stream",
     "text": [
      "[[5 5 5]\n",
      " [5 5 5]\n",
      " [5 5 5]]\n",
      "= = = = =\n",
      "[[[2 2 2]\n",
      "  [3 3 3]\n",
      "  [4 4 4]]\n",
      "\n",
      " [[3 3 3]\n",
      "  [4 4 4]\n",
      "  [5 5 5]]\n",
      "\n",
      " [[4 4 4]\n",
      "  [5 5 5]\n",
      "  [6 6 6]]]\n"
     ]
    }
   ],
   "source": [
    "tarr1 = np.array([[5,5,5],[5,5,5],[5,5,5]], np.int8)\n",
    "tarr2 = np.array([\n",
    "    [[2,2,2],[3,3,3],[4,4,4]],\n",
    "    [[3,3,3],[4,4,4],[5,5,5]],\n",
    "    [[4,4,4],[5,5,5],[6,6,6]]], np.int8)\n",
    "\n",
    "print(tarr1)\n",
    "print(\"= = = = =\")\n",
    "print(tarr2)"
   ]
  },
  {
   "cell_type": "code",
   "execution_count": 8,
   "metadata": {},
   "outputs": [],
   "source": [
    "#np.copyto(in1, tarr1)\n",
    "#np.copyto(in2, tarr2)"
   ]
  },
  {
   "cell_type": "code",
   "execution_count": 9,
   "metadata": {},
   "outputs": [
    {
     "name": "stdout",
     "output_type": "stream",
     "text": [
      "[[5 5 5]\n",
      " [5 5 5]\n",
      " [5 5 5]]\n",
      "\n",
      "= = = = = =\n",
      "\n",
      "[[[2 2 2]\n",
      "  [3 3 3]\n",
      "  [4 4 4]]\n",
      "\n",
      " [[3 3 3]\n",
      "  [4 4 4]\n",
      "  [5 5 5]]\n",
      "\n",
      " [[4 4 4]\n",
      "  [5 5 5]\n",
      "  [6 6 6]]]\n"
     ]
    }
   ],
   "source": [
    "for i in range(3):\n",
    "    for j in range(3):\n",
    "        in1[i][j] = tarr1[i][j]\n",
    "    \n",
    "for i in range(3):\n",
    "    for j in range(3):\n",
    "        for k in range(3):\n",
    "            in2[i][j][k] = tarr2[i][j][k]\n",
    "            \n",
    "print(in1)\n",
    "print('\\n= = = = = =\\n')\n",
    "print(in2)"
   ]
  },
  {
   "cell_type": "code",
   "execution_count": 10,
   "metadata": {},
   "outputs": [
    {
     "name": "stdout",
     "output_type": "stream",
     "text": [
      "[0]\n"
     ]
    }
   ],
   "source": [
    "# Allocate memory to store output\n",
    "out = allocate(shape=(1,), dtype='int8')\n",
    "print(out)"
   ]
  },
  {
   "cell_type": "code",
   "execution_count": 11,
   "metadata": {},
   "outputs": [
    {
     "name": "stdout",
     "output_type": "stream",
     "text": [
      "0.0011816024780273438\n",
      "out: [0]\n"
     ]
    }
   ],
   "source": [
    "in1s = 0x10\n",
    "in2s = 0x1c\n",
    "outs = 0x30\n",
    "\n",
    "t1 = time.time()\n",
    "\n",
    "i = 0\n",
    "\n",
    "'''\n",
    "while i < 9:\n",
    "    if(i%4 == 0):\n",
    "        print(\">at offset\",hex(i))\n",
    "        if(i+4 < in1.shape[0]):\n",
    "            tdat = in1[i:i+4].tobytes()\n",
    "        else:\n",
    "            tdat = in1[i:].tobytes()\n",
    "            \n",
    "        print(tdat)\n",
    "        test_ip.write(in1s+i, tdat)\n",
    "        \n",
    "        if(i+4 < in1.shape[0]):\n",
    "            tdat = in2[i:i+4].tobytes()\n",
    "        else:\n",
    "            tdat = in2[i:].tobytes()\n",
    "            \n",
    "        print(tdat)\n",
    "        test_ip.write(in2s+i, tdat)\n",
    "    i += 1\n",
    "'''\n",
    "\n",
    "\n",
    "#test_ip.register_map.Memory_in_data = in1\n",
    "#test_ip.register_map.Memory_in_weights = in2\n",
    "\n",
    "test_ip.write(in1s, in1.physical_address)\n",
    "test_ip.write(in2s, in2.physical_address)\n",
    "test_ip.write(outs, out.physical_address)\n",
    "test_ip.write(0x00, 1)\n",
    "\n",
    "t2 = time.time()\n",
    "\n",
    "print(t2-t1)\n",
    "print(\"out:\", out)"
   ]
  },
  {
   "cell_type": "code",
   "execution_count": 13,
   "metadata": {},
   "outputs": [
    {
     "name": "stdout",
     "output_type": "stream",
     "text": [
      "out: [0]\n"
     ]
    }
   ],
   "source": [
    "print(\"out:\", out)"
   ]
  },
  {
   "cell_type": "code",
   "execution_count": null,
   "metadata": {},
   "outputs": [],
   "source": []
  }
 ],
 "metadata": {
  "kernelspec": {
   "display_name": "Python 3",
   "language": "python",
   "name": "python3"
  },
  "language_info": {
   "codemirror_mode": {
    "name": "ipython",
    "version": 3
   },
   "file_extension": ".py",
   "mimetype": "text/x-python",
   "name": "python",
   "nbconvert_exporter": "python",
   "pygments_lexer": "ipython3",
   "version": "3.6.5"
  }
 },
 "nbformat": 4,
 "nbformat_minor": 2
}
