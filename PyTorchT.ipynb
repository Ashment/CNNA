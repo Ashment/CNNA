{
 "cells": [
  {
   "cell_type": "code",
   "execution_count": 1,
   "metadata": {},
   "outputs": [],
   "source": [
    "import torch\n",
    "import torchvision\n",
    "import torchvision.transforms as transforms"
   ]
  },
  {
   "cell_type": "code",
   "execution_count": 9,
   "metadata": {},
   "outputs": [
    {
     "name": "stdout",
     "output_type": "stream",
     "text": [
      "Files already downloaded and verified\n",
      "Files already downloaded and verified\n"
     ]
    }
   ],
   "source": [
    "transform = transforms.Compose(\n",
    "    [transforms.ToTensor(),\n",
    "     transforms.Normalize((0.5, 0.5, 0.5), (0.5, 0.5, 0.5))])\n",
    "\n",
    "# Download and Load Cifar-10 Data\n",
    "trainset = torchvision.datasets.CIFAR10(root='./data', train=True,\n",
    "                                        download=True, transform=transform)\n",
    "trainloader = torch.utils.data.DataLoader(trainset, batch_size=4,\n",
    "                                          shuffle=True, num_workers=2)\n",
    "\n",
    "testset = torchvision.datasets.CIFAR10(root='./data', train=False,\n",
    "                                       download=True, transform=transform)\n",
    "testloader = torch.utils.data.DataLoader(testset, batch_size=4,\n",
    "                                         shuffle=False, num_workers=2)\n",
    "\n",
    "classes = ('plane', 'car', 'bird', 'cat',\n",
    "           'deer', 'dog', 'frog', 'horse', 'ship', 'truck')"
   ]
  },
  {
   "cell_type": "code",
   "execution_count": 10,
   "metadata": {},
   "outputs": [
    {
     "data": {
      "image/png": "[encoded data removed]",
      "text/plain": [
       "<Figure size 432x288 with 1 Axes>"
      ]
     },
     "metadata": {
      "needs_background": "light"
     },
     "output_type": "display_data"
    },
    {
     "name": "stdout",
     "output_type": "stream",
     "text": [
      "  car horse  ship  deer\n"
     ]
    }
   ],
   "source": [
    "import matplotlib.pyplot as plt\n",
    "import numpy as np\n",
    "\n",
    "# functions to show an image\n",
    "def imshow(img):\n",
    "    img = img / 2 + 0.5     # unnormalize\n",
    "    npimg = img.numpy()\n",
    "    plt.imshow(np.transpose(npimg, (1, 2, 0)))\n",
    "    plt.show()\n",
    "\n",
    "\n",
    "# get some random training images\n",
    "dataiter = iter(trainloader)\n",
    "images, labels = dataiter.next()\n",
    "\n",
    "# show images\n",
    "imshow(torchvision.utils.make_grid(images))\n",
    "# print labels\n",
    "print(' '.join('%5s' % classes[labels[j]] for j in range(4)))"
   ]
  },
  {
   "cell_type": "code",
   "execution_count": 13,
   "metadata": {},
   "outputs": [],
   "source": [
    "import torch.nn as nn\n",
    "import torch.nn.functional as F\n",
    "\n",
    "class Net(nn.Module):\n",
    "    def __init__(self):\n",
    "        super(Net, self).__init__()\n",
    "        self.conv3x3_1 = nn.Conv2d(3, 96, 3)\n",
    "        self.conv3x3_2 = nn.Conv2d(96, 96, 3)\n",
    "        self.poolconv1 = nn.Conv2d(96, 96, 3, stride = 2)\n",
    "\n",
    "        self.conv3x3_3 = nn.Conv2d(96, 192, 3)\n",
    "        self.conv3x3_4 = nn.Conv2d(192, 192, 3)\n",
    "        self.poolconv2 = nn.Conv2d(192, 192, stride = 2)\n",
    "\n",
    "        self.conv3x3_5 = nn.Conv2d(192, 192, 3)\n",
    "        self.conv1x1_1 = nn.Conv2d(192, 192, 1)\n",
    "        self.conv1x1_2 = nn.Conv2d(192, 10, 1)\n",
    "\n",
    "        self.globalpool = nn.AvgPool2d(6)\n",
    "        \n",
    "    def forward(self, x):\n",
    "        x = F.relu(self.conv3x3_1(x))\n",
    "        x = F.relu(self.conv3x3_2(x))\n",
    "        x = F.relu(self.poolconv1(x))\n",
    "        \n",
    "        x = F.relu(self.conv3x3_3(x))\n",
    "        x = F.relu(self.conv3x3_4(x))\n",
    "        x = F.relu(self.poolconv2(x))\n",
    "        \n",
    "        x = F.relu(self.conv3x3_5(x))\n",
    "        x = F.relu(self.conv1x1_1(x))\n",
    "        x = F.relu(self.conv1x1_2(x))\n",
    "        \n",
    "        x = F.softmax(self.globalpool(x))     "
   ]
  },
  {
   "cell_type": "code",
   "execution_count": null,
   "metadata": {},
   "outputs": [],
   "source": []
  }
 ],
 "metadata": {
  "kernelspec": {
   "display_name": "Python 3",
   "language": "python",
   "name": "python3"
  },
  "language_info": {
   "codemirror_mode": {
    "name": "ipython",
    "version": 3
   },
   "file_extension": ".py",
   "mimetype": "text/x-python",
   "name": "python",
   "nbconvert_exporter": "python",
   "pygments_lexer": "ipython3",
   "version": "3.7.4"
  }
 },
 "nbformat": 4,
 "nbformat_minor": 2
}
