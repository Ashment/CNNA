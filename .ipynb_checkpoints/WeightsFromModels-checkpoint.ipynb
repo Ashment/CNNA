{
 "cells": [
  {
   "cell_type": "code",
   "execution_count": 1,
   "metadata": {},
   "outputs": [],
   "source": [
    "import tensorflow as tf\n",
    "from tensorflow import keras"
   ]
  },
  {
   "cell_type": "code",
   "execution_count": 2,
   "metadata": {},
   "outputs": [],
   "source": [
    "model = keras.models.load_model(\"exCifar10conv\")"
   ]
  },
  {
   "cell_type": "code",
   "execution_count": 3,
   "metadata": {},
   "outputs": [
    {
     "name": "stdout",
     "output_type": "stream",
     "text": [
      "Model: \"conv_model\"\n",
      "_________________________________________________________________\n",
      "Layer (type)                 Output Shape              Param #   \n",
      "=================================================================\n",
      "3x3_1 (Conv2D)               (None, 32, 32, 32)        896       \n",
      "_________________________________________________________________\n",
      "3x3_2 (Conv2D)               (None, 32, 32, 32)        9248      \n",
      "_________________________________________________________________\n",
      "poolconv_1 (Conv2D)          (None, 15, 15, 32)        9248      \n",
      "_________________________________________________________________\n",
      "dropout (Dropout)            (None, 15, 15, 32)        0         \n",
      "_________________________________________________________________\n",
      "3x3_3 (Conv2D)               (None, 15, 15, 64)        18496     \n",
      "_________________________________________________________________\n",
      "3x3_4 (Conv2D)               (None, 15, 15, 64)        36928     \n",
      "_________________________________________________________________\n",
      "poolconv_2 (Conv2D)          (None, 7, 7, 64)          36928     \n",
      "_________________________________________________________________\n",
      "dropout_1 (Dropout)          (None, 7, 7, 64)          0         \n",
      "_________________________________________________________________\n",
      "3x3_5 (Conv2D)               (None, 7, 7, 128)         73856     \n",
      "_________________________________________________________________\n",
      "3x3_6 (Conv2D)               (None, 7, 7, 128)         147584    \n",
      "_________________________________________________________________\n",
      "poolconv_3 (Conv2D)          (None, 3, 3, 128)         147584    \n",
      "_________________________________________________________________\n",
      "dropout_2 (Dropout)          (None, 3, 3, 128)         0         \n",
      "_________________________________________________________________\n",
      "3x3_f (Conv2D)               (None, 3, 3, 128)         147584    \n",
      "_________________________________________________________________\n",
      "1x1_1 (Conv2D)               (None, 3, 3, 128)         16512     \n",
      "_________________________________________________________________\n",
      "1x1_2 (Conv2D)               (None, 3, 3, 10)          1290      \n",
      "_________________________________________________________________\n",
      "GlobalAveragePooling2D (Glob (None, 10)                0         \n",
      "_________________________________________________________________\n",
      "softmax (Softmax)            (None, 10)                0         \n",
      "=================================================================\n",
      "Total params: 646,154\n",
      "Trainable params: 646,154\n",
      "Non-trainable params: 0\n",
      "_________________________________________________________________\n"
     ]
    }
   ],
   "source": [
    "model.summary()"
   ]
  },
  {
   "cell_type": "code",
   "execution_count": 4,
   "metadata": {},
   "outputs": [
    {
     "name": "stdout",
     "output_type": "stream",
     "text": [
      "<class 'tensorflow.python.keras.engine.sequential.Sequential'>\n",
      "<class 'tensorflow.python.keras.layers.convolutional.Conv2D'>\n"
     ]
    }
   ],
   "source": [
    "print(type(model))\n",
    "print(type(model.get_layer(\"3x3_3\")))"
   ]
  },
  {
   "cell_type": "code",
   "execution_count": 5,
   "metadata": {},
   "outputs": [
    {
     "name": "stdout",
     "output_type": "stream",
     "text": [
      "2\n",
      "(3, 3, 32, 64)\n",
      "<class 'numpy.ndarray'>\n",
      "(64,)\n",
      "<class 'numpy.ndarray'>\n"
     ]
    }
   ],
   "source": [
    "weightsb = model.get_layer(\"3x3_3\").get_weights()\n",
    "print(len(weightsb))\n",
    "for i in range(len(weightsb)):\n",
    "    print(weightsb[i].shape)\n",
    "    print(type(weightsb[i]))"
   ]
  },
  {
   "cell_type": "code",
   "execution_count": 6,
   "metadata": {},
   "outputs": [
    {
     "name": "stdout",
     "output_type": "stream",
     "text": [
      "[[ 0.00326661 -0.02766969  0.06671857]\n",
      " [-0.01019471  0.0427774   0.01124507]\n",
      " [-0.09410954  0.0185507  -0.02385138]]\n",
      "<class 'numpy.float32'>\n",
      "-0.05925459\n",
      "<class 'numpy.float32'>\n"
     ]
    }
   ],
   "source": [
    "# Layer Weights from 1 Filter\n",
    "print(weightsb[0][:,:,0,0])\n",
    "print(type(weightsb[0][0,0,0,0]))\n",
    "print(weightsb[1][0])\n",
    "print(type(weightsb[1][0]))\n"
   ]
  },
  {
   "cell_type": "code",
   "execution_count": null,
   "metadata": {},
   "outputs": [],
   "source": []
  }
 ],
 "metadata": {
  "kernelspec": {
   "display_name": "Python 3",
   "language": "python",
   "name": "python3"
  },
  "language_info": {
   "codemirror_mode": {
    "name": "ipython",
    "version": 3
   },
   "file_extension": ".py",
   "mimetype": "text/x-python",
   "name": "python",
   "nbconvert_exporter": "python",
   "pygments_lexer": "ipython3",
   "version": "3.7.4"
  }
 },
 "nbformat": 4,
 "nbformat_minor": 2
}
